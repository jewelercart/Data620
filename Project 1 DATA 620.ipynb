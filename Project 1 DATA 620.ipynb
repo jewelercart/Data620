{
 "cells": [
  {
   "cell_type": "markdown",
   "id": "6c618892-c556-4c8d-9865-ea0108ae43be",
   "metadata": {},
   "source": [
    "# Project 1 DATA 620\n",
    "## Authour: Frederick Jones\n",
    "### Date: 18th Feb 2024"
   ]
  },
  {
   "cell_type": "code",
   "execution_count": 4,
   "id": "1d02f92b-ac43-400c-b165-9c40b05fa8df",
   "metadata": {},
   "outputs": [],
   "source": [
    "import pandas as pd\n",
    "import networkx as nx\n",
    "import matplotlib.pyplot as plt"
   ]
  },
  {
   "cell_type": "markdown",
   "id": "c6bc2b7d-4a28-4346-9342-b6a4610d3493",
   "metadata": {},
   "source": [
    "The data for this project was found on the github uploaded by Melanie Walsh. The data is about the political books published around 2004. Political books can be categorized as neutral, conservative and liberal. So the data contains categorical attributes for each node. The attributes are neutral, conservative and liberal.\n",
    "### Load the dataset from github using pandas.read_csv()"
   ]
  },
  {
   "cell_type": "code",
   "execution_count": 5,
   "id": "93fce302-6d1d-4843-9457-50f8648d42ed",
   "metadata": {},
   "outputs": [],
   "source": [
    "nodes_df = pd.read_csv('https://raw.githubusercontent.com/melaniewalsh/sample-social-network-datasets/master/sample-datasets/political-books/political-books-nodes.csv')"
   ]
  },
  {
   "cell_type": "code",
   "execution_count": 6,
   "id": "062fe93c-ee8e-4047-9f46-45b00ac3452d",
   "metadata": {},
   "outputs": [],
   "source": [
    "edges_df = pd.read_csv(\"https://raw.githubusercontent.com/melaniewalsh/sample-social-network-datasets/master/sample-datasets/political-books/political-books-edges.csv\")"
   ]
  },
  {
   "cell_type": "code",
   "execution_count": 7,
   "id": "f11c88c5-1380-4168-93f1-445aec24cf55",
   "metadata": {},
   "outputs": [
    {
     "data": {
      "text/plain": [
       "array(['neutral', 'conservative', 'liberal'], dtype=object)"
      ]
     },
     "execution_count": 7,
     "metadata": {},
     "output_type": "execute_result"
    }
   ],
   "source": [
    "nodes_df.political_ideology.unique()"
   ]
  },
  {
   "cell_type": "markdown",
   "id": "49b4930a-2ada-4ddc-b0cc-7d3f3b3a5efe",
   "metadata": {},
   "source": [
    "### write functions that can change the labels in each column. \n",
    "If we just print every label like 'Conservative', the network will become a clutter. Therefore, we can use abbreviation as C for conservative, N for neutral, and L for 'liberal'"
   ]
  },
  {
   "cell_type": "code",
   "execution_count": 8,
   "id": "2f44a168-51df-41c5-bcef-716132a94675",
   "metadata": {},
   "outputs": [],
   "source": [
    "def label_encoder(x):\n",
    "    if x=='neutral':\n",
    "        return 'N'\n",
    "    elif x=='conservative':\n",
    "        return 'C'\n",
    "    else: return 'L'\n",
    "\n",
    "def label_decoder(x):\n",
    "    if x=='N':\n",
    "        return 'neutral'\n",
    "    elif x=='C':\n",
    "        return 'conservative'\n",
    "    else: return 'liberal'\n",
    "        "
   ]
  },
  {
   "cell_type": "markdown",
   "id": "89f77ebd-05bb-4156-b307-598b7c040549",
   "metadata": {},
   "source": [
    "Use the label_encoder function defined above to put abbreviations instead of full words"
   ]
  },
  {
   "cell_type": "code",
   "execution_count": 9,
   "id": "648e2b14-8867-4388-919b-294a8e5aea5a",
   "metadata": {},
   "outputs": [],
   "source": [
    "nodes_df.political_ideology = nodes_df.political_ideology.apply(label_encoder)"
   ]
  },
  {
   "cell_type": "code",
   "execution_count": 10,
   "id": "73896188-c42f-426a-b0c9-342169d0780d",
   "metadata": {},
   "outputs": [
    {
     "data": {
      "text/html": [
       "<div>\n",
       "<style scoped>\n",
       "    .dataframe tbody tr th:only-of-type {\n",
       "        vertical-align: middle;\n",
       "    }\n",
       "\n",
       "    .dataframe tbody tr th {\n",
       "        vertical-align: top;\n",
       "    }\n",
       "\n",
       "    .dataframe thead th {\n",
       "        text-align: right;\n",
       "    }\n",
       "</style>\n",
       "<table border=\"1\" class=\"dataframe\">\n",
       "  <thead>\n",
       "    <tr style=\"text-align: right;\">\n",
       "      <th></th>\n",
       "      <th>Id</th>\n",
       "      <th>Label</th>\n",
       "      <th>political_ideology</th>\n",
       "    </tr>\n",
       "  </thead>\n",
       "  <tbody>\n",
       "    <tr>\n",
       "      <th>0</th>\n",
       "      <td>0</td>\n",
       "      <td>1000 Years for Revenge</td>\n",
       "      <td>N</td>\n",
       "    </tr>\n",
       "    <tr>\n",
       "      <th>1</th>\n",
       "      <td>1</td>\n",
       "      <td>Bush vs. the Beltway</td>\n",
       "      <td>C</td>\n",
       "    </tr>\n",
       "    <tr>\n",
       "      <th>2</th>\n",
       "      <td>2</td>\n",
       "      <td>Charlie Wilson's War</td>\n",
       "      <td>C</td>\n",
       "    </tr>\n",
       "    <tr>\n",
       "      <th>3</th>\n",
       "      <td>3</td>\n",
       "      <td>Losing Bin Laden</td>\n",
       "      <td>C</td>\n",
       "    </tr>\n",
       "    <tr>\n",
       "      <th>4</th>\n",
       "      <td>4</td>\n",
       "      <td>Sleeping With the Devil</td>\n",
       "      <td>N</td>\n",
       "    </tr>\n",
       "  </tbody>\n",
       "</table>\n",
       "</div>"
      ],
      "text/plain": [
       "   Id                    Label political_ideology\n",
       "0   0   1000 Years for Revenge                  N\n",
       "1   1     Bush vs. the Beltway                  C\n",
       "2   2     Charlie Wilson's War                  C\n",
       "3   3         Losing Bin Laden                  C\n",
       "4   4  Sleeping With the Devil                  N"
      ]
     },
     "execution_count": 10,
     "metadata": {},
     "output_type": "execute_result"
    }
   ],
   "source": [
    "nodes_df.head()"
   ]
  },
  {
   "cell_type": "code",
   "execution_count": 11,
   "id": "d540d5cf-c1cd-4d0c-b6a2-8fa6a1bc66de",
   "metadata": {},
   "outputs": [
    {
     "data": {
      "text/html": [
       "<div>\n",
       "<style scoped>\n",
       "    .dataframe tbody tr th:only-of-type {\n",
       "        vertical-align: middle;\n",
       "    }\n",
       "\n",
       "    .dataframe tbody tr th {\n",
       "        vertical-align: top;\n",
       "    }\n",
       "\n",
       "    .dataframe thead th {\n",
       "        text-align: right;\n",
       "    }\n",
       "</style>\n",
       "<table border=\"1\" class=\"dataframe\">\n",
       "  <thead>\n",
       "    <tr style=\"text-align: right;\">\n",
       "      <th></th>\n",
       "      <th>Source</th>\n",
       "      <th>Target</th>\n",
       "      <th>Weight</th>\n",
       "    </tr>\n",
       "  </thead>\n",
       "  <tbody>\n",
       "    <tr>\n",
       "      <th>0</th>\n",
       "      <td>1</td>\n",
       "      <td>0</td>\n",
       "      <td>1</td>\n",
       "    </tr>\n",
       "    <tr>\n",
       "      <th>1</th>\n",
       "      <td>2</td>\n",
       "      <td>0</td>\n",
       "      <td>1</td>\n",
       "    </tr>\n",
       "    <tr>\n",
       "      <th>2</th>\n",
       "      <td>3</td>\n",
       "      <td>0</td>\n",
       "      <td>1</td>\n",
       "    </tr>\n",
       "    <tr>\n",
       "      <th>3</th>\n",
       "      <td>3</td>\n",
       "      <td>1</td>\n",
       "      <td>1</td>\n",
       "    </tr>\n",
       "    <tr>\n",
       "      <th>4</th>\n",
       "      <td>4</td>\n",
       "      <td>0</td>\n",
       "      <td>1</td>\n",
       "    </tr>\n",
       "  </tbody>\n",
       "</table>\n",
       "</div>"
      ],
      "text/plain": [
       "   Source  Target  Weight\n",
       "0       1       0       1\n",
       "1       2       0       1\n",
       "2       3       0       1\n",
       "3       3       1       1\n",
       "4       4       0       1"
      ]
     },
     "execution_count": 11,
     "metadata": {},
     "output_type": "execute_result"
    }
   ],
   "source": [
    "edges_df.head()"
   ]
  },
  {
   "cell_type": "code",
   "execution_count": 12,
   "id": "a6c971a3-57da-4c67-93e0-ffea76d4735f",
   "metadata": {},
   "outputs": [
    {
     "data": {
      "image/png": "[encoded data removed]",
      "text/plain": [
       "<Figure size 1000x600 with 1 Axes>"
      ]
     },
     "metadata": {},
     "output_type": "display_data"
    }
   ],
   "source": [
    "\n"
   ]
  },
  {
   "cell_type": "markdown",
   "id": "0b03dc96-c4d5-4d37-940e-13ea6359154e",
   "metadata": {},
   "source": [
    "### Calculate degree centrality and eigenvector centrality for each political ideology group"
   ]
  },
  {
   "cell_type": "code",
   "execution_count": 13,
   "id": "78bb6058-fad0-4ccc-874c-31572ad71e61",
   "metadata": {},
   "outputs": [],
   "source": [
    "degree_centrality = nx.degree_centrality(G)\n",
    "eigenvector_centrality = nx.eigenvector_centrality(G, max_iter = 500)"
   ]
  },
  {
   "cell_type": "code",
   "execution_count": 14,
   "id": "fea1e6a3-a90f-45b2-a44c-36d21a2ad427",
   "metadata": {},
   "outputs": [
    {
     "data": {
      "text/html": [
       "<div>\n",
       "<style scoped>\n",
       "    .dataframe tbody tr th:only-of-type {\n",
       "        vertical-align: middle;\n",
       "    }\n",
       "\n",
       "    .dataframe tbody tr th {\n",
       "        vertical-align: top;\n",
       "    }\n",
       "\n",
       "    .dataframe thead th {\n",
       "        text-align: right;\n",
       "    }\n",
       "</style>\n",
       "<table border=\"1\" class=\"dataframe\">\n",
       "  <thead>\n",
       "    <tr style=\"text-align: right;\">\n",
       "      <th></th>\n",
       "      <th>Id</th>\n",
       "      <th>Label</th>\n",
       "      <th>political_ideology</th>\n",
       "      <th>Degree Centrality</th>\n",
       "      <th>Eigenvector Centrality</th>\n",
       "    </tr>\n",
       "  </thead>\n",
       "  <tbody>\n",
       "    <tr>\n",
       "      <th>0</th>\n",
       "      <td>0</td>\n",
       "      <td>1000 Years for Revenge</td>\n",
       "      <td>neutral</td>\n",
       "      <td>0.057692</td>\n",
       "      <td>0.016812</td>\n",
       "    </tr>\n",
       "    <tr>\n",
       "      <th>1</th>\n",
       "      <td>1</td>\n",
       "      <td>Bush vs. the Beltway</td>\n",
       "      <td>conservative</td>\n",
       "      <td>0.038462</td>\n",
       "      <td>0.012289</td>\n",
       "    </tr>\n",
       "    <tr>\n",
       "      <th>2</th>\n",
       "      <td>2</td>\n",
       "      <td>Charlie Wilson's War</td>\n",
       "      <td>conservative</td>\n",
       "      <td>0.038462</td>\n",
       "      <td>0.011851</td>\n",
       "    </tr>\n",
       "    <tr>\n",
       "      <th>3</th>\n",
       "      <td>3</td>\n",
       "      <td>Losing Bin Laden</td>\n",
       "      <td>conservative</td>\n",
       "      <td>0.221154</td>\n",
       "      <td>0.077091</td>\n",
       "    </tr>\n",
       "    <tr>\n",
       "      <th>4</th>\n",
       "      <td>4</td>\n",
       "      <td>Sleeping With the Devil</td>\n",
       "      <td>neutral</td>\n",
       "      <td>0.076923</td>\n",
       "      <td>0.046648</td>\n",
       "    </tr>\n",
       "  </tbody>\n",
       "</table>\n",
       "</div>"
      ],
      "text/plain": [
       "   Id                    Label political_ideology  Degree Centrality  \\\n",
       "0   0   1000 Years for Revenge            neutral           0.057692   \n",
       "1   1     Bush vs. the Beltway       conservative           0.038462   \n",
       "2   2     Charlie Wilson's War       conservative           0.038462   \n",
       "3   3         Losing Bin Laden       conservative           0.221154   \n",
       "4   4  Sleeping With the Devil            neutral           0.076923   \n",
       "\n",
       "   Eigenvector Centrality  \n",
       "0                0.016812  \n",
       "1                0.012289  \n",
       "2                0.011851  \n",
       "3                0.077091  \n",
       "4                0.046648  "
      ]
     },
     "execution_count": 14,
     "metadata": {},
     "output_type": "execute_result"
    }
   ],
   "source": [
    "centrality_df = pd.DataFrame({'Degree Centrality': degree_centrality, 'Eigenvector Centrality': eigenvector_centrality})\n",
    "centrality_df = pd.merge(nodes_df, centrality_df, left_on='Id', right_index=True)\n",
    "centrality_df.political_ideology = centrality_df.political_ideology.apply(label_decoder)\n",
    "centrality_df.head()"
   ]
  },
  {
   "cell_type": "markdown",
   "id": "7f5eeba5-40b9-406a-91ea-6ee1c027cc9a",
   "metadata": {},
   "source": [
    "### Calculate the mean degree centrality and the mean eigenvector centrality for each political ideology group"
   ]
  },
  {
   "cell_type": "code",
   "execution_count": 15,
   "id": "16ba3824-1ae4-413a-8d7c-bb2b94c42ce9",
   "metadata": {},
   "outputs": [
    {
     "data": {
      "text/html": [
       "<div>\n",
       "<style scoped>\n",
       "    .dataframe tbody tr th:only-of-type {\n",
       "        vertical-align: middle;\n",
       "    }\n",
       "\n",
       "    .dataframe tbody tr th {\n",
       "        vertical-align: top;\n",
       "    }\n",
       "\n",
       "    .dataframe thead th {\n",
       "        text-align: right;\n",
       "    }\n",
       "</style>\n",
       "<table border=\"1\" class=\"dataframe\">\n",
       "  <thead>\n",
       "    <tr style=\"text-align: right;\">\n",
       "      <th></th>\n",
       "      <th>political_ideology</th>\n",
       "      <th>Mean Degree Centrality</th>\n",
       "      <th>Mean Eigenvector Centrality</th>\n",
       "    </tr>\n",
       "  </thead>\n",
       "  <tbody>\n",
       "    <tr>\n",
       "      <th>0</th>\n",
       "      <td>conservative</td>\n",
       "      <td>0.083595</td>\n",
       "      <td>0.037371</td>\n",
       "    </tr>\n",
       "    <tr>\n",
       "      <th>1</th>\n",
       "      <td>liberal</td>\n",
       "      <td>0.084973</td>\n",
       "      <td>0.117132</td>\n",
       "    </tr>\n",
       "    <tr>\n",
       "      <th>2</th>\n",
       "      <td>neutral</td>\n",
       "      <td>0.056213</td>\n",
       "      <td>0.038182</td>\n",
       "    </tr>\n",
       "  </tbody>\n",
       "</table>\n",
       "</div>"
      ],
      "text/plain": [
       "  political_ideology  Mean Degree Centrality  Mean Eigenvector Centrality\n",
       "0       conservative                0.083595                     0.037371\n",
       "1            liberal                0.084973                     0.117132\n",
       "2            neutral                0.056213                     0.038182"
      ]
     },
     "execution_count": 15,
     "metadata": {},
     "output_type": "execute_result"
    }
   ],
   "source": [
    "political_ideology = ['conservative', 'liberal', 'neutral']\n",
    "deg_cent = []\n",
    "eig_cent = []\n",
    "for i in range(3):\n",
    "    deg_cent.append(centrality_df[centrality_df['political_ideology']==political_ideology[i]]['Degree Centrality'].mean())\n",
    "    eig_cent.append(centrality_df[centrality_df['political_ideology']==political_ideology[i]]['Eigenvector Centrality'].mean())\n",
    "df_centrality  = pd.DataFrame({'political_ideology':political_ideology,  'Mean Degree Centrality': deg_cent, 'Mean Eigenvector Centrality': eig_cent})\n",
    "df_centrality "
   ]
  },
  {
   "cell_type": "markdown",
   "id": "0bd1a8b7-42a3-40ee-85d2-771ce066d5cc",
   "metadata": {},
   "source": [
    "### Maximum Degree Centrality and Maximum eigen centrality"
   ]
  },
  {
   "cell_type": "code",
   "execution_count": 16,
   "id": "bac049aa-78a9-40bb-8d8e-2c2ac839a877",
   "metadata": {},
   "outputs": [
    {
     "data": {
      "text/html": [
       "<div>\n",
       "<style scoped>\n",
       "    .dataframe tbody tr th:only-of-type {\n",
       "        vertical-align: middle;\n",
       "    }\n",
       "\n",
       "    .dataframe tbody tr th {\n",
       "        vertical-align: top;\n",
       "    }\n",
       "\n",
       "    .dataframe thead th {\n",
       "        text-align: right;\n",
       "    }\n",
       "</style>\n",
       "<table border=\"1\" class=\"dataframe\">\n",
       "  <thead>\n",
       "    <tr style=\"text-align: right;\">\n",
       "      <th></th>\n",
       "      <th>Id</th>\n",
       "      <th>Label</th>\n",
       "      <th>Degree Centrality</th>\n",
       "      <th>Eigenvector Centrality</th>\n",
       "    </tr>\n",
       "    <tr>\n",
       "      <th>political_ideology</th>\n",
       "      <th></th>\n",
       "      <th></th>\n",
       "      <th></th>\n",
       "      <th></th>\n",
       "    </tr>\n",
       "  </thead>\n",
       "  <tbody>\n",
       "    <tr>\n",
       "      <th>conservative</th>\n",
       "      <td>77</td>\n",
       "      <td>Why Courage Matters</td>\n",
       "      <td>0.240385</td>\n",
       "      <td>0.093562</td>\n",
       "    </tr>\n",
       "    <tr>\n",
       "      <th>liberal</th>\n",
       "      <td>102</td>\n",
       "      <td>Worse Than Watergate</td>\n",
       "      <td>0.221154</td>\n",
       "      <td>0.296894</td>\n",
       "    </tr>\n",
       "    <tr>\n",
       "      <th>neutral</th>\n",
       "      <td>104</td>\n",
       "      <td>Why America Slept</td>\n",
       "      <td>0.125000</td>\n",
       "      <td>0.198157</td>\n",
       "    </tr>\n",
       "  </tbody>\n",
       "</table>\n",
       "</div>"
      ],
      "text/plain": [
       "                     Id                 Label  Degree Centrality  \\\n",
       "political_ideology                                                 \n",
       "conservative         77   Why Courage Matters           0.240385   \n",
       "liberal             102  Worse Than Watergate           0.221154   \n",
       "neutral             104     Why America Slept           0.125000   \n",
       "\n",
       "                    Eigenvector Centrality  \n",
       "political_ideology                          \n",
       "conservative                      0.093562  \n",
       "liberal                           0.296894  \n",
       "neutral                           0.198157  "
      ]
     },
     "execution_count": 16,
     "metadata": {},
     "output_type": "execute_result"
    }
   ],
   "source": [
    "#Group by political ideology and calculate mean centrality measures\n",
    "centrality_df.groupby('political_ideology').max()"
   ]
  },
  {
   "cell_type": "markdown",
   "id": "51c46260-4de7-4520-a172-d310de54dc32",
   "metadata": {},
   "source": [
    "### Minimum Degree Centrality and Minimum eigen centrality"
   ]
  },
  {
   "cell_type": "code",
   "execution_count": 17,
   "id": "d97df8b6-9cb1-4cda-98ef-fc20214dfd19",
   "metadata": {},
   "outputs": [
    {
     "data": {
      "text/html": [
       "<div>\n",
       "<style scoped>\n",
       "    .dataframe tbody tr th:only-of-type {\n",
       "        vertical-align: middle;\n",
       "    }\n",
       "\n",
       "    .dataframe tbody tr th {\n",
       "        vertical-align: top;\n",
       "    }\n",
       "\n",
       "    .dataframe thead th {\n",
       "        text-align: right;\n",
       "    }\n",
       "</style>\n",
       "<table border=\"1\" class=\"dataframe\">\n",
       "  <thead>\n",
       "    <tr style=\"text-align: right;\">\n",
       "      <th></th>\n",
       "      <th>Id</th>\n",
       "      <th>Label</th>\n",
       "      <th>Degree Centrality</th>\n",
       "      <th>Eigenvector Centrality</th>\n",
       "    </tr>\n",
       "    <tr>\n",
       "      <th>political_ideology</th>\n",
       "      <th></th>\n",
       "      <th></th>\n",
       "      <th></th>\n",
       "      <th></th>\n",
       "    </tr>\n",
       "  </thead>\n",
       "  <tbody>\n",
       "    <tr>\n",
       "      <th>conservative</th>\n",
       "      <td>1</td>\n",
       "      <td>A National Party No More</td>\n",
       "      <td>0.028846</td>\n",
       "      <td>0.010445</td>\n",
       "    </tr>\n",
       "    <tr>\n",
       "      <th>liberal</th>\n",
       "      <td>30</td>\n",
       "      <td>Against All Enemies</td>\n",
       "      <td>0.028846</td>\n",
       "      <td>0.019691</td>\n",
       "    </tr>\n",
       "    <tr>\n",
       "      <th>neutral</th>\n",
       "      <td>0</td>\n",
       "      <td>1000 Years for Revenge</td>\n",
       "      <td>0.019231</td>\n",
       "      <td>0.004662</td>\n",
       "    </tr>\n",
       "  </tbody>\n",
       "</table>\n",
       "</div>"
      ],
      "text/plain": [
       "                    Id                     Label  Degree Centrality  \\\n",
       "political_ideology                                                    \n",
       "conservative         1  A National Party No More           0.028846   \n",
       "liberal             30       Against All Enemies           0.028846   \n",
       "neutral              0    1000 Years for Revenge           0.019231   \n",
       "\n",
       "                    Eigenvector Centrality  \n",
       "political_ideology                          \n",
       "conservative                      0.010445  \n",
       "liberal                           0.019691  \n",
       "neutral                           0.004662  "
      ]
     },
     "execution_count": 17,
     "metadata": {},
     "output_type": "execute_result"
    }
   ],
   "source": [
    "centrality_df.groupby('political_ideology').min()"
   ]
  },
  {
   "cell_type": "markdown",
   "id": "c38fcbc3-1032-47fb-8175-0a0417853035",
   "metadata": {},
   "source": []
  },
  {
   "cell_type": "code",
   "execution_count": null,
   "id": "2a4af83f",
   "metadata": {},
   "outputs": [],
   "source": []
  },
  {
   "cell_type": "code",
   "execution_count": null,
   "id": "297da291",
   "metadata": {},
   "outputs": [],
   "source": []
  }
 ],
 "metadata": {
  "kernelspec": {
   "display_name": "Python 3 (ipykernel)",
   "language": "python",
   "name": "python3"
  },
  "language_info": {
   "codemirror_mode": {
    "name": "ipython",
    "version": 3
   },
   "file_extension": ".py",
   "mimetype": "text/x-python",
   "name": "python",
   "nbconvert_exporter": "python",
   "pygments_lexer": "ipython3",
   "version": "3.11.5"
  }
 },
 "nbformat": 4,
 "nbformat_minor": 5
}
