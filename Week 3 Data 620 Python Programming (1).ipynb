{
 "cells": [
  {
   "cell_type": "markdown",
   "id": "f6bf033d",
   "metadata": {},
   "source": [
    "### Import the required libraries "
   ]
  },
  {
   "cell_type": "code",
   "execution_count": 6,
   "id": "03b725b5",
   "metadata": {},
   "outputs": [],
   "source": [
    "import pandas as pd \n",
    "import networkx as nx\n",
    "import matplotlib.pyplot as plt\n",
    "from networkx import  distance_measures as dm\n",
    "import numpy as np"
   ]
  },
  {
   "cell_type": "markdown",
   "id": "efc8d54f",
   "metadata": {},
   "source": [
    "### Get data from the source\n",
    "The data used for this assignment is about the connections among the team of Donald Trump. The data is available on github and it can be read directly from the source."
   ]
  },
  {
   "cell_type": "code",
   "execution_count": 2,
   "id": "61a4d581",
   "metadata": {},
   "outputs": [
    {
     "data": {
      "text/html": [
       "<div>\n",
       "<style scoped>\n",
       "    .dataframe tbody tr th:only-of-type {\n",
       "        vertical-align: middle;\n",
       "    }\n",
       "\n",
       "    .dataframe tbody tr th {\n",
       "        vertical-align: top;\n",
       "    }\n",
       "\n",
       "    .dataframe thead th {\n",
       "        text-align: right;\n",
       "    }\n",
       "</style>\n",
       "<table border=\"1\" class=\"dataframe\">\n",
       "  <thead>\n",
       "    <tr style=\"text-align: right;\">\n",
       "      <th></th>\n",
       "      <th>Source</th>\n",
       "      <th>Target</th>\n",
       "      <th>Weight</th>\n",
       "      <th>Relationship</th>\n",
       "      <th>Citation</th>\n",
       "    </tr>\n",
       "  </thead>\n",
       "  <tbody>\n",
       "    <tr>\n",
       "      <th>0</th>\n",
       "      <td>Paul Teller</td>\n",
       "      <td>Donald J. Trump</td>\n",
       "      <td>1</td>\n",
       "      <td>Special assistant</td>\n",
       "      <td>https://www.documentcloud.org/documents/353434...</td>\n",
       "    </tr>\n",
       "    <tr>\n",
       "      <th>1</th>\n",
       "      <td>Donald J. Trump</td>\n",
       "      <td>Joe Hagin</td>\n",
       "      <td>1</td>\n",
       "      <td>Deputy chief of staff for operations</td>\n",
       "      <td>http://www.cnn.com/2017/01/04/politics/bill-st...</td>\n",
       "    </tr>\n",
       "    <tr>\n",
       "      <th>2</th>\n",
       "      <td>Donald J. Trump</td>\n",
       "      <td>Kellyanne Conway</td>\n",
       "      <td>1</td>\n",
       "      <td>White House Counselor</td>\n",
       "      <td>General knowledge</td>\n",
       "    </tr>\n",
       "    <tr>\n",
       "      <th>3</th>\n",
       "      <td>Donald J. Trump</td>\n",
       "      <td>Wilbur Ross</td>\n",
       "      <td>1</td>\n",
       "      <td>Secretary of Commerce</td>\n",
       "      <td>General knowledge</td>\n",
       "    </tr>\n",
       "    <tr>\n",
       "      <th>4</th>\n",
       "      <td>Donald J. Trump</td>\n",
       "      <td>George E. Norcross Iii</td>\n",
       "      <td>1</td>\n",
       "      <td>\"whose friendship with Mr. Trump dates to the ...</td>\n",
       "      <td>https://www.nytimes.com/2017/02/18/us/mar-a-la...</td>\n",
       "    </tr>\n",
       "  </tbody>\n",
       "</table>\n",
       "</div>"
      ],
      "text/plain": [
       "            Source                  Target  Weight  \\\n",
       "0      Paul Teller         Donald J. Trump       1   \n",
       "1  Donald J. Trump               Joe Hagin       1   \n",
       "2  Donald J. Trump        Kellyanne Conway       1   \n",
       "3  Donald J. Trump             Wilbur Ross       1   \n",
       "4  Donald J. Trump  George E. Norcross Iii       1   \n",
       "\n",
       "                                        Relationship  \\\n",
       "0                                  Special assistant   \n",
       "1               Deputy chief of staff for operations   \n",
       "2                              White House Counselor   \n",
       "3                              Secretary of Commerce   \n",
       "4  \"whose friendship with Mr. Trump dates to the ...   \n",
       "\n",
       "                                            Citation  \n",
       "0  https://www.documentcloud.org/documents/353434...  \n",
       "1  http://www.cnn.com/2017/01/04/politics/bill-st...  \n",
       "2                                  General knowledge  \n",
       "3                                  General knowledge  \n",
       "4  https://www.nytimes.com/2017/02/18/us/mar-a-la...  "
      ]
     },
     "execution_count": 2,
     "metadata": {},
     "output_type": "execute_result"
    }
   ],
   "source": [
    "df_edges = pd.read_csv(\"https://raw.githubusercontent.com/melaniewalsh/sample-social-network-datasets/master/sample-datasets/trump/trump-edges.csv\")\n",
    "df_edges.head()"
   ]
  },
  {
   "cell_type": "code",
   "execution_count": 5,
   "id": "8cc5e09e",
   "metadata": {},
   "outputs": [
    {
     "data": {
      "text/plain": [
       "array([1], dtype=int64)"
      ]
     },
     "execution_count": 5,
     "metadata": {},
     "output_type": "execute_result"
    }
   ],
   "source": [
    "df_edges.Weight.unique()"
   ]
  },
  {
   "cell_type": "code",
   "execution_count": 33,
   "id": "a6adfb91",
   "metadata": {},
   "outputs": [
    {
     "data": {
      "image/png": "[encoded data removed]",
      "text/plain": [
       "<Figure size 640x480 with 1 Axes>"
      ]
     },
     "metadata": {},
     "output_type": "display_data"
    }
   ],
   "source": [
    "# take a subset of the data. The subset can be taken by selecting randomly the candidate from the team. \n",
    "np.random.seed(100)\n",
    "sample_df_edges = df_edges.sample(n=28, random_state=42)\n",
    "\n",
    "# Create a directed graph\n",
    "\n",
    "G = nx.Graph()\n",
    "\n",
    "# Add edges from sample_df_edges DataFrame\n",
    "\n",
    "for i, row in sample_df_edges.iterrows():\n",
    "    G.add_edge(row['Source'], row['Target'])\n",
    "\n",
    "# Get connected components\n",
    "connected_components = list(nx.connected_components(G))\n",
    "\n",
    "# Keep only the largest connected component\n",
    "largest_connected_component = max(connected_components, key=len)\n",
    "\n",
    "# Create a new graph containing only the largest connected component\n",
    "fG = G.subgraph(largest_connected_component)\n",
    "\n",
    "# Set node positions\n",
    "pos = nx.spring_layout(fG)\n",
    "\n",
    "# Draw the graph\n",
    "\n",
    "nx.draw(fG, pos, with_labels=True, node_size=500, node_color='lightgreen', font_size=8, edge_color='gray', linewidths=0.5)\n",
    "\n",
    "# Display the graph\n",
    "\n",
    "plt.show()\n"
   ]
  },
  {
   "cell_type": "markdown",
   "id": "18e564c7",
   "metadata": {},
   "source": [
    "This network graph shows who is linked to whom. Some nodes are are connectected to more than one nodes.Some nodes are connected to only one node making a birany connection between two nodes.\n",
    "\n",
    "### <li> Basic analysis of the graph\n",
    "    \n",
    "1- Diameter of the graph"
   ]
  },
  {
   "cell_type": "code",
   "execution_count": 15,
   "id": "916176ca",
   "metadata": {},
   "outputs": [
    {
     "name": "stdout",
     "output_type": "stream",
     "text": [
      "The diameter of the graph: 4\n"
     ]
    }
   ],
   "source": [
    "d = dm.diameter(fG)\n",
    "print(f\"The diameter of the graph: {d}\")"
   ]
  },
  {
   "cell_type": "markdown",
   "id": "7a78a970",
   "metadata": {},
   "source": [
    "2- Radius of the graph"
   ]
  },
  {
   "cell_type": "code",
   "execution_count": 17,
   "id": "10167f55",
   "metadata": {},
   "outputs": [
    {
     "name": "stdout",
     "output_type": "stream",
     "text": [
      "The radius of the graph: 2\n"
     ]
    }
   ],
   "source": [
    "r = dm.radius(fG)\n",
    "print(f\"The radius of the graph: {r}\")"
   ]
  },
  {
   "cell_type": "markdown",
   "id": "c52bf7cc",
   "metadata": {},
   "source": [
    "3- Closness of nodes:"
   ]
  },
  {
   "cell_type": "code",
   "execution_count": 34,
   "id": "41939011",
   "metadata": {},
   "outputs": [
    {
     "data": {
      "text/plain": [
       "{'Avrahm Berkowitz': 0.037037037037037035,\n",
       " 'Jared Kushner': 0.05555555555555555,\n",
       " 'Donald J. Trump': 0.42857142857142855,\n",
       " 'Wells Griffith': 0.25,\n",
       " 'Allen Weisselberg': 0.23684210526315788,\n",
       " 'Catherine Bray Griffith': 0.16981132075471697,\n",
       " 'Paul Manafort': 0.23684210526315788,\n",
       " 'David S. Cordish': 0.16981132075471697,\n",
       " 'Reed S. Cordish': 0.25,\n",
       " 'Donald Trump Jr.': 0.25,\n",
       " 'Felipe Yaryura': 0.23684210526315788,\n",
       " 'Cindy Simms': 0.23684210526315788,\n",
       " 'Stephen A. Feinberg': 0.23684210526315788,\n",
       " 'Madeleine Westerhout': 0.027777777777777776,\n",
       " 'Rhona Graff Riccio': 0.027777777777777776,\n",
       " 'Don Mcgahn': 0.05555555555555555,\n",
       " 'James Burnham': 0.037037037037037035,\n",
       " 'Christopher Ruddy': 0.23684210526315788,\n",
       " 'Bethany Scully': 0.23684210526315788,\n",
       " 'Greg Katsas': 0.037037037037037035,\n",
       " 'Paul Teller': 0.23684210526315788,\n",
       " 'Mike Pence': 0.027777777777777776,\n",
       " 'Jen Pavlik': 0.027777777777777776,\n",
       " 'Chris Christie': 0.027777777777777776,\n",
       " 'David Wildstein': 0.027777777777777776,\n",
       " 'Jeremy Katz': 0.23684210526315788,\n",
       " 'Brian Baudreau': 0.23684210526315788,\n",
       " 'Alexander Gray': 0.23684210526315788,\n",
       " 'Andeliz Castillo': 0.23684210526315788,\n",
       " 'Charles Kushner': 0.027777777777777776,\n",
       " 'Dara Orbach': 0.027777777777777776,\n",
       " 'George T. Conway Iii': 0.027777777777777776,\n",
       " 'Kellyanne Conway': 0.027777777777777776,\n",
       " 'Martin Sorrell': 0.037037037037037035,\n",
       " 'Eric Trump': 0.027777777777777776,\n",
       " 'Ivanka Trump': 0.027777777777777776,\n",
       " 'Vanessa Trump': 0.16981132075471697}"
      ]
     },
     "execution_count": 34,
     "metadata": {},
     "output_type": "execute_result"
    }
   ],
   "source": [
    " nx.closeness_centrality(G)"
   ]
  },
  {
   "cell_type": "markdown",
   "id": "8b2c0c41",
   "metadata": {},
   "source": [
    "This shows that Donal J Trump is the central node with highest value of closeness. Wells Griffith, Donald Trump Jr, Reed S. Cordish. has seocnd highest closeness score and thus they act as secondary or local center in the graph\n",
    "and Paul Manafort, Allen Weisselberg, Jeremy Katz, Brian Baudreau, Andeliz Castillo, Felipe Yaryura, Cindy Simms, Stephen A. Feinberg are closer but act as nodes not a local center according to the above network graph. "
   ]
  },
  {
   "cell_type": "code",
   "execution_count": 35,
   "id": "a06e6151",
   "metadata": {},
   "outputs": [
    {
     "data": {
      "text/plain": [
       "{1: 6.645161290322581, 2: 5.2, 15: 1.2}"
      ]
     },
     "execution_count": 35,
     "metadata": {},
     "output_type": "execute_result"
    }
   ],
   "source": [
    "nx.average_degree_connectivity(G)"
   ]
  }
 ],
 "metadata": {
  "kernelspec": {
   "display_name": "Python 3 (ipykernel)",
   "language": "python",
   "name": "python3"
  },
  "language_info": {
   "codemirror_mode": {
    "name": "ipython",
    "version": 3
   },
   "file_extension": ".py",
   "mimetype": "text/x-python",
   "name": "python",
   "nbconvert_exporter": "python",
   "pygments_lexer": "ipython3",
   "version": "3.11.5"
  }
 },
 "nbformat": 4,
 "nbformat_minor": 5
}
